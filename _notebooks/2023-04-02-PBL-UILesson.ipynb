{
 "cells": [
  {
   "attachments": {},
   "cell_type": "markdown",
   "metadata": {},
   "source": [
    "# User Interface (UI) - Customizing the Style of a Website and JavaScript Game\n",
    "> 4/24 - The UI lesson teaches how to design interfaces that look good, are easy to use, and work well for everyone. This includes things like how to arrange elements on the screen, choose fonts and colors, and make sure everything is easy to understand and use.\n",
    "- title: P4-M 4/24 A Guide to SASS\n",
    "- toc: true\n",
    "- comments: true\n",
    "- author: (EC)^2 GAL: Ellie Pang, Emma Shen, Claire Chen, Claire Zhao, Grace Wang, Annika Liao, Luna Iwazaki\n",
    "- categories: [student]\n",
    "- type: ap\n",
    "- week: 30"
   ]
  },
  {
   "attachments": {},
   "cell_type": "markdown",
   "metadata": {},
   "source": [
    "## Lesson Plan Outline"
   ]
  },
  {
   "attachments": {},
   "cell_type": "markdown",
   "metadata": {},
   "source": [
    "### **Home Page**"
   ]
  },
  {
   "attachments": {},
   "cell_type": "markdown",
   "metadata": {},
   "source": [
    "- Introduction to the team (Roles & Contributions)\n",
    "\n",
    "- Outline of Lesson\n",
    "\n",
    "- Reveal the goal of the project:  “to let students develop their coding skills in frontend/UI…help them become more fluent in coding frontend…become experts…\""
   ]
  },
  {
   "attachments": {},
   "cell_type": "markdown",
   "metadata": {},
   "source": [
    "### **Customization 1**"
   ]
  },
  {
   "attachments": {},
   "cell_type": "markdown",
   "metadata": {},
   "source": [
    "- Definitions of properties: Color, Font, Layout, Icons, Interactivity, Accessibility\n",
    "\n",
    "- Going over how to add/change colors: changing the color of text, changing the background color, themes\n",
    "\n",
    "- Images: data compression, PIL, numpy, base 64, io"
   ]
  },
  {
   "attachments": {},
   "cell_type": "markdown",
   "metadata": {},
   "source": [
    "### **Customization 2**"
   ]
  },
  {
   "attachments": {},
   "cell_type": "markdown",
   "metadata": {},
   "source": [
    "**Section 1**\n",
    "\n",
    "- CSS in animations \n",
    "- Bootstrap and using elements and how to use them\n",
    "- In depth overview of most css properties "
   ]
  },
  {
   "attachments": {},
   "cell_type": "markdown",
   "metadata": {},
   "source": [
    "### **Building JavaScript Game**"
   ]
  },
  {
   "attachments": {},
   "cell_type": "markdown",
   "metadata": {},
   "source": [
    "**Customization Goals**\n",
    "\n",
    "- Snakeskin Change\n",
    "- Apple Change\n",
    "- Background Change\n",
    "- Animations\n",
    "\n",
    "**Lesson Plan**\n",
    "\n",
    "- JavaScript basic run-down\n",
    "- Snake game customization run-down\n",
    "- Snake game customization before and after"
   ]
  },
  {
   "attachments": {},
   "cell_type": "markdown",
   "metadata": {},
   "source": [
    "### **Hacks**"
   ]
  },
  {
   "attachments": {},
   "cell_type": "markdown",
   "metadata": {},
   "source": [
    "**Get started**\n",
    "- Clone the template repository “Hacks-Copy” \n",
    "- Have our website open \n",
    "\n",
    "**Questions Page**\n",
    "- Answer the questions in the while following the lesson (0.3) \n",
    "- Write about how you plan to use what you learned in this lesson to improve your CPT project (0.1) \n",
    "\n",
    "**Customization 1 and 2**\n",
    "- Replicate the screen video using elements from the lesson(0.2)\n",
    "- Customize your profile (Picture, Name, Description, GitHub link) (0.2) \n",
    "\n",
    "**JavaScript**\n",
    "- Get to a score of AT LEAST 20 apples and take a selfie with your high score! Put this picture in(0.1)\n",
    "- Customize snake game (Change color of snake/apple) (0.1)\n",
    "\n",
    "**EXTRA**\n",
    "- Add a bootstrap element from the lesson"
   ]
  }
 ],
 "metadata": {
  "language_info": {
   "name": "python"
  },
  "orig_nbformat": 4
 },
 "nbformat": 4,
 "nbformat_minor": 2
}
